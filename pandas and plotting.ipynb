{
 "cells": [
  {
   "cell_type": "code",
   "execution_count": 170,
   "id": "6393feb8-6e01-4a6f-a9ea-6e3c0c9b1099",
   "metadata": {},
   "outputs": [],
   "source": [
    "import pandas as pd"
   ]
  },
  {
   "cell_type": "code",
   "execution_count": 171,
   "id": "88b5e102-83ba-4909-8572-f24492577f43",
   "metadata": {},
   "outputs": [],
   "source": [
    "df = pd.read_csv('~/Dropbox/github/binder-framework/Value_of_Energy_Cost_Savings_Program_Savings_for_Businesses.csv')"
   ]
  },
  {
   "cell_type": "code",
   "execution_count": 172,
   "id": "2bcf6031-5753-4944-a5bb-5e428cb6a101",
   "metadata": {},
   "outputs": [
    {
     "data": {
      "text/plain": [
       "Index(['Period', 'Company Name', 'company contact', 'company email',\n",
       "       'company phone', 'Address', 'City', 'State', 'Postcode', 'Industry',\n",
       "       'Industry descr', 'Company Type', 'Current fulltime', 'Job created',\n",
       "       'Job retain', 'Effective Date', 'Total Savings',\n",
       "       'Savings from beginning receiving benefits', 'Gas Savings',\n",
       "       'Cogen savings', 'Electric Savings', 'Borough', 'Latitude', 'Longitude',\n",
       "       'Community Board', 'Council District', 'BIN', 'BBL',\n",
       "       'Census Tract (2020)', 'Neighborhood Tabulation Area (NTA) (2020)'],\n",
       "      dtype='object')"
      ]
     },
     "execution_count": 172,
     "metadata": {},
     "output_type": "execute_result"
    }
   ],
   "source": [
    "df.columns"
   ]
  },
  {
   "cell_type": "code",
   "execution_count": 173,
   "id": "3510b65e-038a-4744-9667-7d2cd0d93d6b",
   "metadata": {},
   "outputs": [],
   "source": [
    "# 1. How many different companies are represented in the data set?"
   ]
  },
  {
   "cell_type": "code",
   "execution_count": 174,
   "id": "30d34b32-9b8a-4fac-8c1b-13234c87214b",
   "metadata": {},
   "outputs": [
    {
     "data": {
      "text/plain": [
       "787"
      ]
     },
     "execution_count": 174,
     "metadata": {},
     "output_type": "execute_result"
    }
   ],
   "source": [
    "len(set(df['Company Name']))"
   ]
  },
  {
   "cell_type": "code",
   "execution_count": 175,
   "id": "490c955f-1ba4-47c5-8859-2376ca9cfec2",
   "metadata": {},
   "outputs": [
    {
     "data": {
      "text/plain": [
       "787"
      ]
     },
     "execution_count": 175,
     "metadata": {},
     "output_type": "execute_result"
    }
   ],
   "source": [
    "df['Company Name'].nunique()"
   ]
  },
  {
   "cell_type": "code",
   "execution_count": 176,
   "id": "06d70733-f57f-4362-96a4-a3686c799ffd",
   "metadata": {},
   "outputs": [],
   "source": [
    "# 2. What is the total number of jobs created for businesses in Queens?"
   ]
  },
  {
   "cell_type": "code",
   "execution_count": 177,
   "id": "05142936-2f44-4401-8209-037673e731a6",
   "metadata": {},
   "outputs": [
    {
     "data": {
      "text/plain": [
       "1196.0"
      ]
     },
     "execution_count": 177,
     "metadata": {},
     "output_type": "execute_result"
    }
   ],
   "source": [
    "df['Job created'][df['Borough'] == 'QUEENS'].sum()"
   ]
  },
  {
   "cell_type": "code",
   "execution_count": 178,
   "id": "411e5851-93a5-4b8c-8c84-4f360514d92f",
   "metadata": {},
   "outputs": [],
   "source": [
    "# 3. How many different unique email domains names are there in the data set?"
   ]
  },
  {
   "cell_type": "code",
   "execution_count": 361,
   "id": "9e8d05a5-c943-4588-8196-94d46b9312c0",
   "metadata": {},
   "outputs": [
    {
     "data": {
      "text/plain": [
       "601"
      ]
     },
     "execution_count": 361,
     "metadata": {},
     "output_type": "execute_result"
    }
   ],
   "source": [
    "import numpy as np\n",
    "df['company email'].apply(lambda x: x.split('@')[-1] if type(x) == str else np.nan).nunique()"
   ]
  },
  {
   "cell_type": "code",
   "execution_count": 362,
   "id": "8facf5a6-ec69-494a-bceb-ff6d219ce7e8",
   "metadata": {},
   "outputs": [
    {
     "data": {
      "text/plain": [
       "company email\n",
       "2    2199\n",
       "0     129\n",
       "1      29\n",
       "3       6\n",
       "Name: count, dtype: int64"
      ]
     },
     "execution_count": 362,
     "metadata": {},
     "output_type": "execute_result"
    }
   ],
   "source": [
    "domain_lengths = df['company email'].apply(lambda x: len(x.split('@')) if type(x) == str else 0)\n",
    "domain_lengths.value_counts()"
   ]
  },
  {
   "cell_type": "code",
   "execution_count": 363,
   "id": "3ae9cbd2-07cd-4aa1-a70b-02a94e767945",
   "metadata": {},
   "outputs": [
    {
     "data": {
      "text/html": [
       "<div>\n",
       "<style scoped>\n",
       "    .dataframe tbody tr th:only-of-type {\n",
       "        vertical-align: middle;\n",
       "    }\n",
       "\n",
       "    .dataframe tbody tr th {\n",
       "        vertical-align: top;\n",
       "    }\n",
       "\n",
       "    .dataframe thead th {\n",
       "        text-align: right;\n",
       "    }\n",
       "</style>\n",
       "<table border=\"1\" class=\"dataframe\">\n",
       "  <thead>\n",
       "    <tr style=\"text-align: right;\">\n",
       "      <th></th>\n",
       "      <th>company email</th>\n",
       "      <th>domain_1</th>\n",
       "      <th>domain_2</th>\n",
       "    </tr>\n",
       "  </thead>\n",
       "  <tbody>\n",
       "    <tr>\n",
       "      <th>33</th>\n",
       "      <td>Johnmdallcitymetal.com</td>\n",
       "      <td>NaN</td>\n",
       "      <td>Johnmdallcitymetal.com</td>\n",
       "    </tr>\n",
       "    <tr>\n",
       "      <th>36</th>\n",
       "      <td>officegreenfelds.com</td>\n",
       "      <td>NaN</td>\n",
       "      <td>officegreenfelds.com</td>\n",
       "    </tr>\n",
       "    <tr>\n",
       "      <th>84</th>\n",
       "      <td>billieannplastics.com</td>\n",
       "      <td>NaN</td>\n",
       "      <td>billieannplastics.com</td>\n",
       "    </tr>\n",
       "    <tr>\n",
       "      <th>100</th>\n",
       "      <td>jgewitrtzbrooklynnets.com</td>\n",
       "      <td>NaN</td>\n",
       "      <td>jgewitrtzbrooklynnets.com</td>\n",
       "    </tr>\n",
       "    <tr>\n",
       "      <th>139</th>\n",
       "      <td>Computer Services Group, Inc.</td>\n",
       "      <td>NaN</td>\n",
       "      <td>Computer Services Group, Inc.</td>\n",
       "    </tr>\n",
       "    <tr>\n",
       "      <th>221</th>\n",
       "      <td>pinagracesmarketplace.com</td>\n",
       "      <td>NaN</td>\n",
       "      <td>pinagracesmarketplace.com</td>\n",
       "    </tr>\n",
       "    <tr>\n",
       "      <th>385</th>\n",
       "      <td>adenovarebiologistics.com</td>\n",
       "      <td>NaN</td>\n",
       "      <td>adenovarebiologistics.com</td>\n",
       "    </tr>\n",
       "    <tr>\n",
       "      <th>426</th>\n",
       "      <td>promptapparel.com</td>\n",
       "      <td>NaN</td>\n",
       "      <td>promptapparel.com</td>\n",
       "    </tr>\n",
       "    <tr>\n",
       "      <th>535</th>\n",
       "      <td>benjanusproperty.com</td>\n",
       "      <td>NaN</td>\n",
       "      <td>benjanusproperty.com</td>\n",
       "    </tr>\n",
       "    <tr>\n",
       "      <th>536</th>\n",
       "      <td>urbangreenfurniture.com</td>\n",
       "      <td>NaN</td>\n",
       "      <td>urbangreenfurniture.com</td>\n",
       "    </tr>\n",
       "    <tr>\n",
       "      <th>557</th>\n",
       "      <td>www.bme.coumbia.edu/-sia</td>\n",
       "      <td>NaN</td>\n",
       "      <td>www.bme.coumbia.edu/-sia</td>\n",
       "    </tr>\n",
       "    <tr>\n",
       "      <th>610</th>\n",
       "      <td>Johnmdallcitymetal.com</td>\n",
       "      <td>NaN</td>\n",
       "      <td>Johnmdallcitymetal.com</td>\n",
       "    </tr>\n",
       "    <tr>\n",
       "      <th>657</th>\n",
       "      <td>billieannplastics.com</td>\n",
       "      <td>NaN</td>\n",
       "      <td>billieannplastics.com</td>\n",
       "    </tr>\n",
       "    <tr>\n",
       "      <th>672</th>\n",
       "      <td>jgewitrtzbrooklynnets.com</td>\n",
       "      <td>NaN</td>\n",
       "      <td>jgewitrtzbrooklynnets.com</td>\n",
       "    </tr>\n",
       "    <tr>\n",
       "      <th>707</th>\n",
       "      <td>Computer Services Group, Inc.</td>\n",
       "      <td>NaN</td>\n",
       "      <td>Computer Services Group, Inc.</td>\n",
       "    </tr>\n",
       "    <tr>\n",
       "      <th>783</th>\n",
       "      <td>pinagracesmarketplace.com</td>\n",
       "      <td>NaN</td>\n",
       "      <td>pinagracesmarketplace.com</td>\n",
       "    </tr>\n",
       "    <tr>\n",
       "      <th>795</th>\n",
       "      <td>officegreenfelds.com</td>\n",
       "      <td>NaN</td>\n",
       "      <td>officegreenfelds.com</td>\n",
       "    </tr>\n",
       "    <tr>\n",
       "      <th>942</th>\n",
       "      <td>adenovarebiologistics.com</td>\n",
       "      <td>NaN</td>\n",
       "      <td>adenovarebiologistics.com</td>\n",
       "    </tr>\n",
       "    <tr>\n",
       "      <th>978</th>\n",
       "      <td>promptapparel.com</td>\n",
       "      <td>NaN</td>\n",
       "      <td>promptapparel.com</td>\n",
       "    </tr>\n",
       "    <tr>\n",
       "      <th>1079</th>\n",
       "      <td>urbangreenfurniture.com</td>\n",
       "      <td>NaN</td>\n",
       "      <td>urbangreenfurniture.com</td>\n",
       "    </tr>\n",
       "    <tr>\n",
       "      <th>1188</th>\n",
       "      <td>billieannplastics.com</td>\n",
       "      <td>NaN</td>\n",
       "      <td>billieannplastics.com</td>\n",
       "    </tr>\n",
       "    <tr>\n",
       "      <th>1200</th>\n",
       "      <td>jgewitrtzbrooklynnets.com</td>\n",
       "      <td>NaN</td>\n",
       "      <td>jgewitrtzbrooklynnets.com</td>\n",
       "    </tr>\n",
       "    <tr>\n",
       "      <th>1301</th>\n",
       "      <td>officegreenfelds.com</td>\n",
       "      <td>NaN</td>\n",
       "      <td>officegreenfelds.com</td>\n",
       "    </tr>\n",
       "    <tr>\n",
       "      <th>1420</th>\n",
       "      <td>adenovarebiologistics.com</td>\n",
       "      <td>NaN</td>\n",
       "      <td>adenovarebiologistics.com</td>\n",
       "    </tr>\n",
       "    <tr>\n",
       "      <th>1532</th>\n",
       "      <td>urbangreenfurniture.com</td>\n",
       "      <td>NaN</td>\n",
       "      <td>urbangreenfurniture.com</td>\n",
       "    </tr>\n",
       "    <tr>\n",
       "      <th>1646</th>\n",
       "      <td>jgeweirtzbseglobal.net</td>\n",
       "      <td>NaN</td>\n",
       "      <td>jgeweirtzbseglobal.net</td>\n",
       "    </tr>\n",
       "    <tr>\n",
       "      <th>1736</th>\n",
       "      <td>officegreenfelds.com</td>\n",
       "      <td>NaN</td>\n",
       "      <td>officegreenfelds.com</td>\n",
       "    </tr>\n",
       "    <tr>\n",
       "      <th>1758</th>\n",
       "      <td>claude.boisvert@ingka.ikea.com @ikea.com</td>\n",
       "      <td>ingka.ikea.com</td>\n",
       "      <td>ikea.com</td>\n",
       "    </tr>\n",
       "    <tr>\n",
       "      <th>1771</th>\n",
       "      <td>William.Paglia@JetBlue.com@Jetblue.com</td>\n",
       "      <td>JetBlue.com</td>\n",
       "      <td>Jetblue.com</td>\n",
       "    </tr>\n",
       "    <tr>\n",
       "      <th>1772</th>\n",
       "      <td>William.Paglia@JetBlue.com@Jetblue.com</td>\n",
       "      <td>JetBlue.com</td>\n",
       "      <td>Jetblue.com</td>\n",
       "    </tr>\n",
       "    <tr>\n",
       "      <th>2041</th>\n",
       "      <td>jgeweirtzbseglobal.net</td>\n",
       "      <td>NaN</td>\n",
       "      <td>jgeweirtzbseglobal.net</td>\n",
       "    </tr>\n",
       "    <tr>\n",
       "      <th>2126</th>\n",
       "      <td>officegreenfelds.com</td>\n",
       "      <td>NaN</td>\n",
       "      <td>officegreenfelds.com</td>\n",
       "    </tr>\n",
       "    <tr>\n",
       "      <th>2148</th>\n",
       "      <td>claude.boisvert@ingka.ikea.com @ikea.com</td>\n",
       "      <td>ingka.ikea.com</td>\n",
       "      <td>ikea.com</td>\n",
       "    </tr>\n",
       "    <tr>\n",
       "      <th>2161</th>\n",
       "      <td>William.Paglia@JetBlue.com@Jetblue.com</td>\n",
       "      <td>JetBlue.com</td>\n",
       "      <td>Jetblue.com</td>\n",
       "    </tr>\n",
       "    <tr>\n",
       "      <th>2162</th>\n",
       "      <td>William.Paglia@JetBlue.com@Jetblue.com</td>\n",
       "      <td>JetBlue.com</td>\n",
       "      <td>Jetblue.com</td>\n",
       "    </tr>\n",
       "  </tbody>\n",
       "</table>\n",
       "</div>"
      ],
      "text/plain": [
       "                                 company email         domain_1  \\\n",
       "33                      Johnmdallcitymetal.com              NaN   \n",
       "36                        officegreenfelds.com              NaN   \n",
       "84                       billieannplastics.com              NaN   \n",
       "100                  jgewitrtzbrooklynnets.com              NaN   \n",
       "139              Computer Services Group, Inc.              NaN   \n",
       "221                  pinagracesmarketplace.com              NaN   \n",
       "385                  adenovarebiologistics.com              NaN   \n",
       "426                          promptapparel.com              NaN   \n",
       "535                       benjanusproperty.com              NaN   \n",
       "536                    urbangreenfurniture.com              NaN   \n",
       "557                   www.bme.coumbia.edu/-sia              NaN   \n",
       "610                     Johnmdallcitymetal.com              NaN   \n",
       "657                      billieannplastics.com              NaN   \n",
       "672                  jgewitrtzbrooklynnets.com              NaN   \n",
       "707              Computer Services Group, Inc.              NaN   \n",
       "783                  pinagracesmarketplace.com              NaN   \n",
       "795                       officegreenfelds.com              NaN   \n",
       "942                  adenovarebiologistics.com              NaN   \n",
       "978                          promptapparel.com              NaN   \n",
       "1079                   urbangreenfurniture.com              NaN   \n",
       "1188                     billieannplastics.com              NaN   \n",
       "1200                 jgewitrtzbrooklynnets.com              NaN   \n",
       "1301                      officegreenfelds.com              NaN   \n",
       "1420                 adenovarebiologistics.com              NaN   \n",
       "1532                   urbangreenfurniture.com              NaN   \n",
       "1646                    jgeweirtzbseglobal.net              NaN   \n",
       "1736                      officegreenfelds.com              NaN   \n",
       "1758  claude.boisvert@ingka.ikea.com @ikea.com  ingka.ikea.com    \n",
       "1771    William.Paglia@JetBlue.com@Jetblue.com      JetBlue.com   \n",
       "1772    William.Paglia@JetBlue.com@Jetblue.com      JetBlue.com   \n",
       "2041                    jgeweirtzbseglobal.net              NaN   \n",
       "2126                      officegreenfelds.com              NaN   \n",
       "2148  claude.boisvert@ingka.ikea.com @ikea.com  ingka.ikea.com    \n",
       "2161    William.Paglia@JetBlue.com@Jetblue.com      JetBlue.com   \n",
       "2162    William.Paglia@JetBlue.com@Jetblue.com      JetBlue.com   \n",
       "\n",
       "                           domain_2  \n",
       "33           Johnmdallcitymetal.com  \n",
       "36             officegreenfelds.com  \n",
       "84            billieannplastics.com  \n",
       "100       jgewitrtzbrooklynnets.com  \n",
       "139   Computer Services Group, Inc.  \n",
       "221       pinagracesmarketplace.com  \n",
       "385       adenovarebiologistics.com  \n",
       "426               promptapparel.com  \n",
       "535            benjanusproperty.com  \n",
       "536         urbangreenfurniture.com  \n",
       "557        www.bme.coumbia.edu/-sia  \n",
       "610          Johnmdallcitymetal.com  \n",
       "657           billieannplastics.com  \n",
       "672       jgewitrtzbrooklynnets.com  \n",
       "707   Computer Services Group, Inc.  \n",
       "783       pinagracesmarketplace.com  \n",
       "795            officegreenfelds.com  \n",
       "942       adenovarebiologistics.com  \n",
       "978               promptapparel.com  \n",
       "1079        urbangreenfurniture.com  \n",
       "1188          billieannplastics.com  \n",
       "1200      jgewitrtzbrooklynnets.com  \n",
       "1301           officegreenfelds.com  \n",
       "1420      adenovarebiologistics.com  \n",
       "1532        urbangreenfurniture.com  \n",
       "1646         jgeweirtzbseglobal.net  \n",
       "1736           officegreenfelds.com  \n",
       "1758                       ikea.com  \n",
       "1771                    Jetblue.com  \n",
       "1772                    Jetblue.com  \n",
       "2041         jgeweirtzbseglobal.net  \n",
       "2126           officegreenfelds.com  \n",
       "2148                       ikea.com  \n",
       "2161                    Jetblue.com  \n",
       "2162                    Jetblue.com  "
      ]
     },
     "execution_count": 363,
     "metadata": {},
     "output_type": "execute_result"
    }
   ],
   "source": [
    "domain_1 = df['company email'].str.split('@').str[1]\n",
    "domain_2 = df['company email'].str.split('@').str[-1]\n",
    "domains = pd.DataFrame({'company email': df['company email'], 'domain_1': domain_1, 'domain_2': domain_2})\n",
    "domains[(domain_1 != domain_2) & (~domain_2.isnull())]"
   ]
  },
  {
   "cell_type": "code",
   "execution_count": 187,
   "id": "b2bff4cd-1109-4fe6-a62b-cdce98411865",
   "metadata": {},
   "outputs": [],
   "source": [
    "# 4. Considering only NTAs with at least 5 listed businesses, what is the average total savings and the total jobs created for each NTA?"
   ]
  },
  {
   "cell_type": "code",
   "execution_count": 188,
   "id": "5a14186c-a1d3-4940-a9ce-bdd6b831b1dc",
   "metadata": {
    "scrolled": true
   },
   "outputs": [
    {
     "data": {
      "text/html": [
       "<div>\n",
       "<style scoped>\n",
       "    .dataframe tbody tr th:only-of-type {\n",
       "        vertical-align: middle;\n",
       "    }\n",
       "\n",
       "    .dataframe tbody tr th {\n",
       "        vertical-align: top;\n",
       "    }\n",
       "\n",
       "    .dataframe thead th {\n",
       "        text-align: right;\n",
       "    }\n",
       "</style>\n",
       "<table border=\"1\" class=\"dataframe\">\n",
       "  <thead>\n",
       "    <tr style=\"text-align: right;\">\n",
       "      <th></th>\n",
       "      <th>Total_Jobs_Created</th>\n",
       "      <th>Average_Total_Saving</th>\n",
       "    </tr>\n",
       "    <tr>\n",
       "      <th>Neighborhood Tabulation Area (NTA) (2020)</th>\n",
       "      <th></th>\n",
       "      <th></th>\n",
       "    </tr>\n",
       "  </thead>\n",
       "  <tbody>\n",
       "    <tr>\n",
       "      <th>BK0101</th>\n",
       "      <td>16.0</td>\n",
       "      <td>10367.961795</td>\n",
       "    </tr>\n",
       "    <tr>\n",
       "      <th>BK0102</th>\n",
       "      <td>15.0</td>\n",
       "      <td>12599.753333</td>\n",
       "    </tr>\n",
       "    <tr>\n",
       "      <th>BK0103</th>\n",
       "      <td>0.0</td>\n",
       "      <td>19150.922857</td>\n",
       "    </tr>\n",
       "    <tr>\n",
       "      <th>BK0104</th>\n",
       "      <td>187.0</td>\n",
       "      <td>21158.253077</td>\n",
       "    </tr>\n",
       "    <tr>\n",
       "      <th>BK0201</th>\n",
       "      <td>0.0</td>\n",
       "      <td>15102.036364</td>\n",
       "    </tr>\n",
       "    <tr>\n",
       "      <th>...</th>\n",
       "      <td>...</td>\n",
       "      <td>...</td>\n",
       "    </tr>\n",
       "    <tr>\n",
       "      <th>QN1305</th>\n",
       "      <td>0.0</td>\n",
       "      <td>166379.352000</td>\n",
       "    </tr>\n",
       "    <tr>\n",
       "      <th>QN1306</th>\n",
       "      <td>0.0</td>\n",
       "      <td>21160.505200</td>\n",
       "    </tr>\n",
       "    <tr>\n",
       "      <th>SI0106</th>\n",
       "      <td>10.0</td>\n",
       "      <td>6338.252857</td>\n",
       "    </tr>\n",
       "    <tr>\n",
       "      <th>SI0107</th>\n",
       "      <td>300.0</td>\n",
       "      <td>113610.160000</td>\n",
       "    </tr>\n",
       "    <tr>\n",
       "      <th>SI0204</th>\n",
       "      <td>0.0</td>\n",
       "      <td>605464.839167</td>\n",
       "    </tr>\n",
       "  </tbody>\n",
       "</table>\n",
       "<p>72 rows × 2 columns</p>\n",
       "</div>"
      ],
      "text/plain": [
       "                                           Total_Jobs_Created  \\\n",
       "Neighborhood Tabulation Area (NTA) (2020)                       \n",
       "BK0101                                                   16.0   \n",
       "BK0102                                                   15.0   \n",
       "BK0103                                                    0.0   \n",
       "BK0104                                                  187.0   \n",
       "BK0201                                                    0.0   \n",
       "...                                                       ...   \n",
       "QN1305                                                    0.0   \n",
       "QN1306                                                    0.0   \n",
       "SI0106                                                   10.0   \n",
       "SI0107                                                  300.0   \n",
       "SI0204                                                    0.0   \n",
       "\n",
       "                                           Average_Total_Saving  \n",
       "Neighborhood Tabulation Area (NTA) (2020)                        \n",
       "BK0101                                             10367.961795  \n",
       "BK0102                                             12599.753333  \n",
       "BK0103                                             19150.922857  \n",
       "BK0104                                             21158.253077  \n",
       "BK0201                                             15102.036364  \n",
       "...                                                         ...  \n",
       "QN1305                                            166379.352000  \n",
       "QN1306                                             21160.505200  \n",
       "SI0106                                              6338.252857  \n",
       "SI0107                                            113610.160000  \n",
       "SI0204                                            605464.839167  \n",
       "\n",
       "[72 rows x 2 columns]"
      ]
     },
     "execution_count": 188,
     "metadata": {},
     "output_type": "execute_result"
    }
   ],
   "source": [
    "df2 = df.groupby('Neighborhood Tabulation Area (NTA) (2020)').agg(Number_of_businesses = ('Job created', 'size'), Total_Jobs_Created = ('Job created', 'sum'), Average_Total_Saving = ('Total Savings', 'mean'))\n",
    "df3 = df2[df2[\"Number_of_businesses\"] >= 5]\n",
    "df3[['Total_Jobs_Created', 'Average_Total_Saving']]"
   ]
  },
  {
   "cell_type": "code",
   "execution_count": 189,
   "id": "4e2d9af2-6fc9-42fa-884e-0099b18ee1bc",
   "metadata": {},
   "outputs": [],
   "source": [
    "# 5. Save your result for the previous question as a CSV file."
   ]
  },
  {
   "cell_type": "code",
   "execution_count": 190,
   "id": "ad35ba79-8655-4e45-9782-dc1b68fe6498",
   "metadata": {},
   "outputs": [],
   "source": [
    "df3.to_csv('~/Dropbox/github/binder-framework/Summaries.csv')"
   ]
  },
  {
   "cell_type": "code",
   "execution_count": 191,
   "id": "9604570b-2778-4e27-be24-8a865137fb0e",
   "metadata": {},
   "outputs": [],
   "source": [
    "# Day 5"
   ]
  },
  {
   "cell_type": "code",
   "execution_count": 192,
   "id": "2b1dce58-1788-49da-af02-f75654fd6ab1",
   "metadata": {},
   "outputs": [],
   "source": [
    "# 2. Using the same data set and results that you were working with in the pandas action items section (Day 4), create a"
   ]
  },
  {
   "cell_type": "code",
   "execution_count": 193,
   "id": "8a0eb6ce-e546-43da-b9d8-d69317139ed1",
   "metadata": {},
   "outputs": [],
   "source": [
    "##    scatter plot of jobs created versus average savings. Use both a standard and a logarithmic scale for the average savings."
   ]
  },
  {
   "cell_type": "code",
   "execution_count": 229,
   "id": "d1920db0-601e-4dfa-a385-f13af431cb1a",
   "metadata": {},
   "outputs": [],
   "source": [
    "df4 = df[df['Job created'] < 10000]"
   ]
  },
  {
   "cell_type": "code",
   "execution_count": 233,
   "id": "83a8ef89-c776-43a5-9429-a6d0d6f07960",
   "metadata": {},
   "outputs": [
    {
     "data": {
      "text/plain": [
       "Index(['Period', 'Company Name', 'company contact', 'company email',\n",
       "       'company phone', 'Address', 'City', 'State', 'Postcode', 'Industry',\n",
       "       'Industry descr', 'Company Type', 'Current fulltime', 'Job created',\n",
       "       'Job retain', 'Effective Date', 'Total Savings',\n",
       "       'Savings from beginning receiving benefits', 'Gas Savings',\n",
       "       'Cogen savings', 'Electric Savings', 'Borough', 'Latitude', 'Longitude',\n",
       "       'Community Board', 'Council District', 'BIN', 'BBL',\n",
       "       'Census Tract (2020)', 'Neighborhood Tabulation Area (NTA) (2020)',\n",
       "       'Average Savings'],\n",
       "      dtype='object')"
      ]
     },
     "execution_count": 233,
     "metadata": {},
     "output_type": "execute_result"
    }
   ],
   "source": [
    "df4.columns"
   ]
  },
  {
   "cell_type": "code",
   "execution_count": 235,
   "id": "d1c49df6-cdac-4bd7-8af9-8e6272a2c83d",
   "metadata": {
    "scrolled": true
   },
   "outputs": [
    {
     "name": "stderr",
     "output_type": "stream",
     "text": [
      "/var/folders/c2/h_dgyyk55zv2_mqdy1pnb79m0000gn/T/ipykernel_88348/2299585170.py:1: SettingWithCopyWarning: \n",
      "A value is trying to be set on a copy of a slice from a DataFrame.\n",
      "Try using .loc[row_indexer,col_indexer] = value instead\n",
      "\n",
      "See the caveats in the documentation: https://pandas.pydata.org/pandas-docs/stable/user_guide/indexing.html#returning-a-view-versus-a-copy\n",
      "  df4['Average Savings'] = df4['Total Savings'] / df4['Job created']\n"
     ]
    }
   ],
   "source": [
    "df4['Average Savings'] = df4['Total Savings'] / df4['Job created']"
   ]
  },
  {
   "cell_type": "code",
   "execution_count": 211,
   "id": "37d61d3b-b82c-4318-908b-200ff78d5442",
   "metadata": {},
   "outputs": [],
   "source": [
    "#df5 = pd.DataFrame({'Job created': df4['Job created'], 'Average Savings': df4['Total Savings'] / df4['Job created']})"
   ]
  },
  {
   "cell_type": "code",
   "execution_count": 237,
   "id": "79eb1d88-2c73-4974-bcad-c13ea049db95",
   "metadata": {},
   "outputs": [
    {
     "data": {
      "text/plain": [
       "<matplotlib.collections.PathCollection at 0x149cb0b50>"
      ]
     },
     "execution_count": 237,
     "metadata": {},
     "output_type": "execute_result"
    },
    {
     "data": {
      "image/png": "[encoded data removed]",
      "text/plain": [
       "<Figure size 640x480 with 1 Axes>"
      ]
     },
     "metadata": {},
     "output_type": "display_data"
    }
   ],
   "source": [
    "from matplotlib import pyplot as plt\n",
    "fig, ax = plt.subplots()\n",
    "ax.scatter(df4['Job created'], df4['Average Savings'])"
   ]
  },
  {
   "cell_type": "code",
   "execution_count": 238,
   "id": "806d5f6c-1058-4ddb-b311-1fe93842296f",
   "metadata": {
    "scrolled": true
   },
   "outputs": [
    {
     "data": {
      "image/png": "[encoded data removed]",
      "text/plain": [
       "<Figure size 640x480 with 1 Axes>"
      ]
     },
     "metadata": {},
     "output_type": "display_data"
    }
   ],
   "source": [
    "fig2, ax2 = plt.subplots()\n",
    "ax2.scatter(df4['Job created'], df4['Average Savings'])\n",
    "ax2.set_yscale(\"log\")"
   ]
  },
  {
   "cell_type": "code",
   "execution_count": null,
   "id": "05e5749d-eebb-4873-a439-2c757aba9bc7",
   "metadata": {},
   "outputs": [],
   "source": [
    "##    histogram of the log of the average total savings."
   ]
  },
  {
   "cell_type": "code",
   "execution_count": 241,
   "id": "5e614985-762b-4162-bd15-62fb59a01350",
   "metadata": {},
   "outputs": [
    {
     "data": {
      "text/plain": [
       "(array([ 1.,  0.,  0.,  1.,  1.,  3.,  4.,  8., 10., 22., 32., 40., 33.,\n",
       "        30., 17.,  9.,  4.,  3.,  1.,  2.]),\n",
       " array([-1.04575749, -0.73599006, -0.42622262, -0.11645519,  0.19331224,\n",
       "         0.50307968,  0.81284711,  1.12261455,  1.43238198,  1.74214941,\n",
       "         2.05191685,  2.36168428,  2.67145171,  2.98121915,  3.29098658,\n",
       "         3.60075402,  3.91052145,  4.22028888,  4.53005632,  4.83982375,\n",
       "         5.14959118]),\n",
       " <BarContainer object of 20 artists>)"
      ]
     },
     "execution_count": 241,
     "metadata": {},
     "output_type": "execute_result"
    },
    {
     "data": {
      "image/png": "[encoded data removed]",
      "text/plain": [
       "<Figure size 640x480 with 1 Axes>"
      ]
     },
     "metadata": {},
     "output_type": "display_data"
    }
   ],
   "source": [
    "df5 = df4[df4['Average Savings'] > 0]\n",
    "fig3, ax3 = plt.subplots()\n",
    "ax3.hist(np.log10(df5['Average Savings']), bins = 20)"
   ]
  },
  {
   "cell_type": "code",
   "execution_count": null,
   "id": "7c7adf36-e860-470f-946e-fccb71dfb778",
   "metadata": {},
   "outputs": [],
   "source": [
    "##    line plot of the total jobs created for each month."
   ]
  },
  {
   "cell_type": "code",
   "execution_count": 269,
   "id": "d8169d78-479c-4f81-b60d-00742e28e88e",
   "metadata": {},
   "outputs": [
    {
     "name": "stderr",
     "output_type": "stream",
     "text": [
      "/var/folders/c2/h_dgyyk55zv2_mqdy1pnb79m0000gn/T/ipykernel_88348/459807241.py:1: SettingWithCopyWarning: \n",
      "A value is trying to be set on a copy of a slice from a DataFrame.\n",
      "Try using .loc[row_indexer,col_indexer] = value instead\n",
      "\n",
      "See the caveats in the documentation: https://pandas.pydata.org/pandas-docs/stable/user_guide/indexing.html#returning-a-view-versus-a-copy\n",
      "  df4['year_month'] = pd.to_datetime(df4['Effective Date']).dt.to_period('M')\n"
     ]
    }
   ],
   "source": [
    "df4['year_month'] = pd.to_datetime(df4['Effective Date']).dt.to_period('M')"
   ]
  },
  {
   "cell_type": "code",
   "execution_count": 270,
   "id": "9a958377-0d4f-4fea-bbbb-f26462ceae4c",
   "metadata": {},
   "outputs": [
    {
     "data": {
      "text/html": [
       "<div>\n",
       "<style scoped>\n",
       "    .dataframe tbody tr th:only-of-type {\n",
       "        vertical-align: middle;\n",
       "    }\n",
       "\n",
       "    .dataframe tbody tr th {\n",
       "        vertical-align: top;\n",
       "    }\n",
       "\n",
       "    .dataframe thead th {\n",
       "        text-align: right;\n",
       "    }\n",
       "</style>\n",
       "<table border=\"1\" class=\"dataframe\">\n",
       "  <thead>\n",
       "    <tr style=\"text-align: right;\">\n",
       "      <th></th>\n",
       "      <th>Total_Jobs_created</th>\n",
       "    </tr>\n",
       "    <tr>\n",
       "      <th>year_month</th>\n",
       "      <th></th>\n",
       "    </tr>\n",
       "  </thead>\n",
       "  <tbody>\n",
       "    <tr>\n",
       "      <th>1993-02</th>\n",
       "      <td>25.0</td>\n",
       "    </tr>\n",
       "    <tr>\n",
       "      <th>1993-04</th>\n",
       "      <td>10.0</td>\n",
       "    </tr>\n",
       "    <tr>\n",
       "      <th>1994-04</th>\n",
       "      <td>15.0</td>\n",
       "    </tr>\n",
       "    <tr>\n",
       "      <th>1998-10</th>\n",
       "      <td>17.0</td>\n",
       "    </tr>\n",
       "    <tr>\n",
       "      <th>2001-04</th>\n",
       "      <td>20.0</td>\n",
       "    </tr>\n",
       "    <tr>\n",
       "      <th>2002-10</th>\n",
       "      <td>5.0</td>\n",
       "    </tr>\n",
       "    <tr>\n",
       "      <th>2003-07</th>\n",
       "      <td>5.0</td>\n",
       "    </tr>\n",
       "    <tr>\n",
       "      <th>2003-11</th>\n",
       "      <td>40.0</td>\n",
       "    </tr>\n",
       "    <tr>\n",
       "      <th>2004-03</th>\n",
       "      <td>50.0</td>\n",
       "    </tr>\n",
       "    <tr>\n",
       "      <th>2004-07</th>\n",
       "      <td>82.0</td>\n",
       "    </tr>\n",
       "    <tr>\n",
       "      <th>2004-08</th>\n",
       "      <td>51.0</td>\n",
       "    </tr>\n",
       "    <tr>\n",
       "      <th>2004-09</th>\n",
       "      <td>70.0</td>\n",
       "    </tr>\n",
       "    <tr>\n",
       "      <th>2004-10</th>\n",
       "      <td>444.0</td>\n",
       "    </tr>\n",
       "    <tr>\n",
       "      <th>2004-11</th>\n",
       "      <td>6.0</td>\n",
       "    </tr>\n",
       "    <tr>\n",
       "      <th>2004-12</th>\n",
       "      <td>48.0</td>\n",
       "    </tr>\n",
       "    <tr>\n",
       "      <th>2005-01</th>\n",
       "      <td>9.0</td>\n",
       "    </tr>\n",
       "    <tr>\n",
       "      <th>2005-02</th>\n",
       "      <td>112.0</td>\n",
       "    </tr>\n",
       "    <tr>\n",
       "      <th>2005-03</th>\n",
       "      <td>45.0</td>\n",
       "    </tr>\n",
       "    <tr>\n",
       "      <th>2005-04</th>\n",
       "      <td>12.0</td>\n",
       "    </tr>\n",
       "    <tr>\n",
       "      <th>2005-05</th>\n",
       "      <td>13.0</td>\n",
       "    </tr>\n",
       "    <tr>\n",
       "      <th>2005-06</th>\n",
       "      <td>20.0</td>\n",
       "    </tr>\n",
       "    <tr>\n",
       "      <th>2005-08</th>\n",
       "      <td>14.0</td>\n",
       "    </tr>\n",
       "    <tr>\n",
       "      <th>2005-09</th>\n",
       "      <td>40.0</td>\n",
       "    </tr>\n",
       "    <tr>\n",
       "      <th>2005-10</th>\n",
       "      <td>33.0</td>\n",
       "    </tr>\n",
       "    <tr>\n",
       "      <th>2005-11</th>\n",
       "      <td>20.0</td>\n",
       "    </tr>\n",
       "    <tr>\n",
       "      <th>2006-01</th>\n",
       "      <td>118.0</td>\n",
       "    </tr>\n",
       "    <tr>\n",
       "      <th>2006-02</th>\n",
       "      <td>462.0</td>\n",
       "    </tr>\n",
       "    <tr>\n",
       "      <th>2006-03</th>\n",
       "      <td>69.0</td>\n",
       "    </tr>\n",
       "    <tr>\n",
       "      <th>2006-04</th>\n",
       "      <td>50.0</td>\n",
       "    </tr>\n",
       "    <tr>\n",
       "      <th>2006-05</th>\n",
       "      <td>64.0</td>\n",
       "    </tr>\n",
       "    <tr>\n",
       "      <th>2006-06</th>\n",
       "      <td>414.0</td>\n",
       "    </tr>\n",
       "    <tr>\n",
       "      <th>2006-07</th>\n",
       "      <td>12.0</td>\n",
       "    </tr>\n",
       "    <tr>\n",
       "      <th>2006-08</th>\n",
       "      <td>62.0</td>\n",
       "    </tr>\n",
       "    <tr>\n",
       "      <th>2006-09</th>\n",
       "      <td>330.0</td>\n",
       "    </tr>\n",
       "    <tr>\n",
       "      <th>2006-10</th>\n",
       "      <td>84.0</td>\n",
       "    </tr>\n",
       "    <tr>\n",
       "      <th>2006-11</th>\n",
       "      <td>176.0</td>\n",
       "    </tr>\n",
       "    <tr>\n",
       "      <th>2006-12</th>\n",
       "      <td>90.0</td>\n",
       "    </tr>\n",
       "    <tr>\n",
       "      <th>2007-01</th>\n",
       "      <td>102.0</td>\n",
       "    </tr>\n",
       "    <tr>\n",
       "      <th>2007-02</th>\n",
       "      <td>96.0</td>\n",
       "    </tr>\n",
       "    <tr>\n",
       "      <th>2007-03</th>\n",
       "      <td>147.0</td>\n",
       "    </tr>\n",
       "    <tr>\n",
       "      <th>2007-04</th>\n",
       "      <td>64.0</td>\n",
       "    </tr>\n",
       "    <tr>\n",
       "      <th>2007-05</th>\n",
       "      <td>50.0</td>\n",
       "    </tr>\n",
       "    <tr>\n",
       "      <th>2007-06</th>\n",
       "      <td>192.0</td>\n",
       "    </tr>\n",
       "    <tr>\n",
       "      <th>2007-07</th>\n",
       "      <td>100.0</td>\n",
       "    </tr>\n",
       "    <tr>\n",
       "      <th>2007-11</th>\n",
       "      <td>15.0</td>\n",
       "    </tr>\n",
       "    <tr>\n",
       "      <th>2008-12</th>\n",
       "      <td>30.0</td>\n",
       "    </tr>\n",
       "    <tr>\n",
       "      <th>2010-01</th>\n",
       "      <td>6.0</td>\n",
       "    </tr>\n",
       "  </tbody>\n",
       "</table>\n",
       "</div>"
      ],
      "text/plain": [
       "            Total_Jobs_created\n",
       "year_month                    \n",
       "1993-02                   25.0\n",
       "1993-04                   10.0\n",
       "1994-04                   15.0\n",
       "1998-10                   17.0\n",
       "2001-04                   20.0\n",
       "2002-10                    5.0\n",
       "2003-07                    5.0\n",
       "2003-11                   40.0\n",
       "2004-03                   50.0\n",
       "2004-07                   82.0\n",
       "2004-08                   51.0\n",
       "2004-09                   70.0\n",
       "2004-10                  444.0\n",
       "2004-11                    6.0\n",
       "2004-12                   48.0\n",
       "2005-01                    9.0\n",
       "2005-02                  112.0\n",
       "2005-03                   45.0\n",
       "2005-04                   12.0\n",
       "2005-05                   13.0\n",
       "2005-06                   20.0\n",
       "2005-08                   14.0\n",
       "2005-09                   40.0\n",
       "2005-10                   33.0\n",
       "2005-11                   20.0\n",
       "2006-01                  118.0\n",
       "2006-02                  462.0\n",
       "2006-03                   69.0\n",
       "2006-04                   50.0\n",
       "2006-05                   64.0\n",
       "2006-06                  414.0\n",
       "2006-07                   12.0\n",
       "2006-08                   62.0\n",
       "2006-09                  330.0\n",
       "2006-10                   84.0\n",
       "2006-11                  176.0\n",
       "2006-12                   90.0\n",
       "2007-01                  102.0\n",
       "2007-02                   96.0\n",
       "2007-03                  147.0\n",
       "2007-04                   64.0\n",
       "2007-05                   50.0\n",
       "2007-06                  192.0\n",
       "2007-07                  100.0\n",
       "2007-11                   15.0\n",
       "2008-12                   30.0\n",
       "2010-01                    6.0"
      ]
     },
     "execution_count": 270,
     "metadata": {},
     "output_type": "execute_result"
    }
   ],
   "source": [
    "df6 = df4.groupby('year_month').agg(Total_Jobs_created = ('Job created', 'sum'))\n",
    "df6"
   ]
  },
  {
   "cell_type": "code",
   "execution_count": 271,
   "id": "665ee906-b454-41c4-95b4-0526099f0a55",
   "metadata": {},
   "outputs": [
    {
     "data": {
      "text/plain": [
       "<Axes: xlabel='year_month'>"
      ]
     },
     "execution_count": 271,
     "metadata": {},
     "output_type": "execute_result"
    },
    {
     "data": {
      "image/png": "[encoded data removed]",
      "text/plain": [
       "<Figure size 640x480 with 1 Axes>"
      ]
     },
     "metadata": {},
     "output_type": "display_data"
    }
   ],
   "source": [
    "df6.plot.line()"
   ]
  },
  {
   "cell_type": "code",
   "execution_count": null,
   "id": "7f82e857-59dd-4f6b-9eff-0b433684b10f",
   "metadata": {},
   "outputs": [],
   "source": []
  }
 ],
 "metadata": {
  "kernelspec": {
   "display_name": "Python 3 (ipykernel)",
   "language": "python",
   "name": "python3"
  },
  "language_info": {
   "codemirror_mode": {
    "name": "ipython",
    "version": 3
   },
   "file_extension": ".py",
   "mimetype": "text/x-python",
   "name": "python",
   "nbconvert_exporter": "python",
   "pygments_lexer": "ipython3",
   "version": "3.11.4"
  }
 },
 "nbformat": 4,
 "nbformat_minor": 5
}
